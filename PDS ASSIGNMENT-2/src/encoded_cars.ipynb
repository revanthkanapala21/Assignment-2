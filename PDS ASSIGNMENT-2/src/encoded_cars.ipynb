{
 "cells": [
  {
   "cell_type": "code",
   "execution_count": 1,
   "id": "8b949b80-1511-4d55-a501-8c039054c9d9",
   "metadata": {},
   "outputs": [],
   "source": [
    "import pandas as pd"
   ]
  },
  {
   "cell_type": "code",
   "execution_count": 10,
   "id": "2ae90cd7-e98f-433c-b814-275fd170fda9",
   "metadata": {},
   "outputs": [],
   "source": [
    "df_cars=pd.read_csv('/Users/revanthkumarkanapala/Desktop/PDS ASSIGNMENT-2/clean_data/clean.csv')\n"
   ]
  },
  {
   "cell_type": "code",
   "execution_count": 11,
   "id": "0e080b3e-b0cd-42f1-953f-412f71400a2d",
   "metadata": {},
   "outputs": [
    {
     "name": "stdout",
     "output_type": "stream",
     "text": [
      "                               Name    Location  Year  Kilometers_Driven  \\\n",
      "0  Hyundai Creta 1.6 CRDi SX Option        Pune  2015              41000   \n",
      "1                      Honda Jazz V     Chennai  2011              46000   \n",
      "2                 Maruti Ertiga VDI     Chennai  2012              87000   \n",
      "3   Audi A4 New 2.0 TDI Multitronic  Coimbatore  2013              40670   \n",
      "4            Nissan Micra Diesel XV      Jaipur  2013              86999   \n",
      "\n",
      "   Fuel_Type  Transmission Owner_Type  Mileage  Engine   Power  Seats  Price  \n",
      "0          0             1      First    19.67  1582.0  126.20    5.0  12.50  \n",
      "1          1             1      First    13.00  1199.0   88.70    5.0   4.50  \n",
      "2          0             1      First    20.77  1248.0   88.76    7.0   6.00  \n",
      "3          0             0     Second    15.20  1968.0  140.80    5.0  17.74  \n",
      "4          0             1      First    23.08  1461.0   63.10    5.0   3.50  \n"
     ]
    }
   ],
   "source": [
    "df_cars['Fuel_Type'] = df_cars['Fuel_Type'].apply(lambda x: 1 if x == 'Petrol' else 0)\n",
    "df_cars['Transmission'] = df_cars['Transmission'].apply(lambda x: 1 if x == 'Manual' else 0)\n",
    "\n",
    "# View the dataset with one-hot encoded values\n",
    "print(df_cars.head())"
   ]
  },
  {
   "cell_type": "code",
   "execution_count": 12,
   "id": "76d2d27c-846a-4429-8455-23ad019fe26f",
   "metadata": {},
   "outputs": [],
   "source": [
    "# Writing the data with one-hot encoded values to a new file\n",
    "df_cars.to_csv('/Users/revanthkumarkanapala/Desktop/PDS ASSIGNMENT-2/results/cars_encoded.csv', index=False)"
   ]
  },
  {
   "cell_type": "code",
   "execution_count": null,
   "id": "aa605a02-cc32-4484-b8e5-0f9484a0999e",
   "metadata": {},
   "outputs": [],
   "source": []
  }
 ],
 "metadata": {
  "kernelspec": {
   "display_name": "Python 3 (ipykernel)",
   "language": "python",
   "name": "python3"
  },
  "language_info": {
   "codemirror_mode": {
    "name": "ipython",
    "version": 3
   },
   "file_extension": ".py",
   "mimetype": "text/x-python",
   "name": "python",
   "nbconvert_exporter": "python",
   "pygments_lexer": "ipython3",
   "version": "3.11.5"
  }
 },
 "nbformat": 4,
 "nbformat_minor": 5
}
