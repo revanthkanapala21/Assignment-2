{
 "cells": [
  {
   "cell_type": "code",
   "execution_count": 1,
   "id": "f1e54a17-f722-4415-8dee-e9c430cdd624",
   "metadata": {},
   "outputs": [],
   "source": [
    "import pandas as pd\n",
    "from datetime import datetime"
   ]
  },
  {
   "cell_type": "code",
   "execution_count": 6,
   "id": "d592dbe5-cf58-4a97-8e04-4b51bfffcf03",
   "metadata": {},
   "outputs": [],
   "source": [
    "df_cars = pd.read_csv('/Users/revanthkumarkanapala/Desktop/PDS ASSIGNMENT-2/results/cars_encoded.csv')"
   ]
  },
  {
   "cell_type": "code",
   "execution_count": 7,
   "id": "4d133218-42bf-453d-bba3-4ebd7ba741d0",
   "metadata": {},
   "outputs": [],
   "source": [
    "current_year = datetime.now().year\n",
    "df_cars['Current_Age'] = current_year - df_cars['Year']"
   ]
  },
  {
   "cell_type": "code",
   "execution_count": 8,
   "id": "8d361d37-ee8f-4e68-b8f9-18cf94b9ca49",
   "metadata": {},
   "outputs": [
    {
     "name": "stdout",
     "output_type": "stream",
     "text": [
      "                               Name    Location  Year  Kilometers_Driven  \\\n",
      "0  Hyundai Creta 1.6 CRDi SX Option        Pune  2015              41000   \n",
      "1                      Honda Jazz V     Chennai  2011              46000   \n",
      "2                 Maruti Ertiga VDI     Chennai  2012              87000   \n",
      "3   Audi A4 New 2.0 TDI Multitronic  Coimbatore  2013              40670   \n",
      "4            Nissan Micra Diesel XV      Jaipur  2013              86999   \n",
      "\n",
      "   Fuel_Type  Transmission Owner_Type  Mileage  Engine   Power  Seats  Price  \\\n",
      "0          0             1      First    19.67  1582.0  126.20    5.0  12.50   \n",
      "1          1             1      First    13.00  1199.0   88.70    5.0   4.50   \n",
      "2          0             1      First    20.77  1248.0   88.76    7.0   6.00   \n",
      "3          0             0     Second    15.20  1968.0  140.80    5.0  17.74   \n",
      "4          0             1      First    23.08  1461.0   63.10    5.0   3.50   \n",
      "\n",
      "   Current_Age  \n",
      "0            8  \n",
      "1           12  \n",
      "2           11  \n",
      "3           10  \n",
      "4           10  \n"
     ]
    }
   ],
   "source": [
    "print(df_cars.head())\n"
   ]
  },
  {
   "cell_type": "code",
   "execution_count": 9,
   "id": "7ef2b0d2-f2bf-426f-baf4-644550eb4f5e",
   "metadata": {},
   "outputs": [],
   "source": [
    "df_cars.to_csv('/Users/revanthkumarkanapala/Desktop/PDS ASSIGNMENT-2/results/car_results.csv', index=False)"
   ]
  },
  {
   "cell_type": "code",
   "execution_count": null,
   "id": "8ba4efab-7319-4772-b4d2-456af0e46cf6",
   "metadata": {},
   "outputs": [],
   "source": []
  }
 ],
 "metadata": {
  "kernelspec": {
   "display_name": "Python 3 (ipykernel)",
   "language": "python",
   "name": "python3"
  },
  "language_info": {
   "codemirror_mode": {
    "name": "ipython",
    "version": 3
   },
   "file_extension": ".py",
   "mimetype": "text/x-python",
   "name": "python",
   "nbconvert_exporter": "python",
   "pygments_lexer": "ipython3",
   "version": "3.11.5"
  }
 },
 "nbformat": 4,
 "nbformat_minor": 5
}
